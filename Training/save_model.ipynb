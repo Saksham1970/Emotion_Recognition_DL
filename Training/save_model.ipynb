{
 "cells": [
  {
   "cell_type": "code",
   "execution_count": 20,
   "metadata": {},
   "outputs": [],
   "source": [
    "import data\n",
    "import data_custom\n",
    "from vgg import VGG\n",
    "import torch\n",
    "\n",
    "from torch.utils.mobile_optimizer import optimize_for_mobile"
   ]
  },
  {
   "cell_type": "code",
   "execution_count": 2,
   "metadata": {},
   "outputs": [],
   "source": [
    "_, _, fer2013 = data.get_dataloaders('./Datasets/FER2013', 8)\n",
    "_, _, fer_plus = data.get_dataloaders('./Datasets/FERplus', 8)\n",
    "_, _, custom_face_data = data_custom.get_dataloaders('./Datasets/CustomFaceData', 8)"
   ]
  },
  {
   "cell_type": "code",
   "execution_count": 5,
   "metadata": {},
   "outputs": [],
   "source": [
    "archs = {\n",
    "    \"VGG_11\": ((1, 64), (1, 128), (2, 256), (2, 512), (2, 512)),\n",
    "    \"VGG_16\": ((2, 64), (2, 128), (3, 256), (3, 512), (3, 512)),\n",
    "}\n"
   ]
  },
  {
   "cell_type": "code",
   "execution_count": 234,
   "metadata": {},
   "outputs": [
    {
     "name": "stderr",
     "output_type": "stream",
     "text": [
      "e:\\Anaconda\\TestML\\Lib\\site-packages\\torch\\nn\\modules\\lazy.py:180: UserWarning: Lazy modules are a new feature under heavy development so changes to the API or functionality can happen at any moment.\n",
      "  warnings.warn('Lazy modules are a new feature under heavy development '\n"
     ]
    },
    {
     "data": {
      "text/plain": [
       "<All keys matched successfully>"
      ]
     },
     "execution_count": 234,
     "metadata": {},
     "output_type": "execute_result"
    }
   ],
   "source": [
    "net = VGG(arch=archs[\"VGG_16\"])\n",
    "path = f'./checkpoints/VGG_16_FER2013/epoch_150'\n",
    "checkpoint = torch.load(path)\n",
    "net.load_state_dict(checkpoint[\"params\"])"
   ]
  },
  {
   "cell_type": "code",
   "execution_count": 236,
   "metadata": {},
   "outputs": [],
   "source": [
    "# initialise lazy network\n",
    "\n",
    "inputs = next(iter(fer2013))[0]\n",
    "# fuse crops and batchsize\n",
    "original_shape = inputs.shape\n",
    "inputs = inputs.view(-1, *inputs.shape[-3:])\n",
    "\n",
    "# forward\n",
    "outputs = net(inputs)"
   ]
  },
  {
   "cell_type": "code",
   "execution_count": 237,
   "metadata": {},
   "outputs": [],
   "source": [
    "model_scripted = torch.jit.script(net.eval())\n",
    "model_scripted.save(\"./Trained Models/VGG16-FER2013.pt\")\n"
   ]
  }
 ],
 "metadata": {
  "kernelspec": {
   "display_name": "Python 3",
   "language": "python",
   "name": "python3"
  },
  "language_info": {
   "codemirror_mode": {
    "name": "ipython",
    "version": 3
   },
   "file_extension": ".py",
   "mimetype": "text/x-python",
   "name": "python",
   "nbconvert_exporter": "python",
   "pygments_lexer": "ipython3",
   "version": "3.11.3"
  },
  "orig_nbformat": 4
 },
 "nbformat": 4,
 "nbformat_minor": 2
}
